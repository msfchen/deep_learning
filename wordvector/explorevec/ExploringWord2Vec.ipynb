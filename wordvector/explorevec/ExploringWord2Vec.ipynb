{
 "cells": [
  {
   "cell_type": "markdown",
   "metadata": {
    "colab_type": "text",
    "id": "1ZcUP8hOcIHt"
   },
   "source": [
    "# XCS224N Assignment 1 Part 2: Exploring Word2Vec Embeddings (15 Points)\n",
    "\n",
    "Before you start, make sure you read the XCS224N Assignment 1 PDF Handout.\n",
    "\n",
    "As you work you way through this notebook, you will enter answers directly into a companion quiz linked in the SCPD learning portal. The name of this quiz is **Assignment 1 Part 2 Companion Quiz**. Log in to the SCPD site now and open the quiz before you begin. "
   ]
  },
  {
   "cell_type": "code",
   "execution_count": 0,
   "metadata": {
    "colab": {},
    "colab_type": "code",
    "id": "UMX2qGcLcIHx"
   },
   "outputs": [],
   "source": [
    "# All Import Statements Defined Here\n",
    "# Note: Do not add to this list.\n",
    "# All the dependencies you need can be installed by running this cell.\n",
    "# Throughout this notebook you can run a cell by hitting CTRL+RETURN or the Play button/icon at left\n",
    "# ----------------\n",
    "\n",
    "import sys\n",
    "assert sys.version_info[0]==3\n",
    "assert sys.version_info[1] >= 5\n",
    "\n",
    "from gensim.models import KeyedVectors\n",
    "from gensim.test.utils import datapath\n",
    "import pprint\n",
    "import matplotlib.pyplot as plt\n",
    "\n",
    "# ----------------"
   ]
  },
  {
   "cell_type": "markdown",
   "metadata": {
    "colab_type": "text",
    "id": "7NsuZre3cII4"
   },
   "source": [
    "As discussed in class, more recently prediction-based word vectors have come into fashion, e.g. word2vec. Here, we shall explore the embeddings produced by word2vec. Please revisit the class notes and lecture slides for more details on the word2vec algorithm. If you're feeling adventurous, challenge yourself and try reading the [original paper](https://papers.nips.cc/paper/5021-distributed-representations-of-words-and-phrases-and-their-compositionality.pdf).\n",
    "\n",
    "Then run the following cells to load the word2vec vectors into memory. **_Note: This could take several minutes._**"
   ]
  },
  {
   "cell_type": "code",
   "execution_count": 0,
   "metadata": {
    "colab": {},
    "colab_type": "code",
    "id": "xffIF_HLcII5"
   },
   "outputs": [],
   "source": [
    "def load_word2vec():\n",
    "    \"\"\" Load Word2Vec Vectors\n",
    "        Return:\n",
    "            wv_from_bin: 2.5 million of 3 million embeddings, each lengh 300\n",
    "    \"\"\"\n",
    "    import gensim.downloader as api\n",
    "    from gensim.models import KeyedVectors\n",
    "    # let's load 2.5 million of the 3 million word embeddings so we don't run out of memory on Colab\n",
    "    wv_from_bin = KeyedVectors.load_word2vec_format(api.load(\"word2vec-google-news-300\", return_path=True), limit=2500000, binary=True)\n",
    "    vocab = list(wv_from_bin.vocab.keys())\n",
    "    print(\"Loaded vocab size %i\" % len(vocab))\n",
    "    return wv_from_bin"
   ]
  },
  {
   "cell_type": "code",
   "execution_count": 3,
   "metadata": {
    "colab": {
     "base_uri": "https://localhost:8080/",
     "height": 104
    },
    "colab_type": "code",
    "id": "auC2oPKqcII9",
    "outputId": "138d5e4a-9a74-44a0-deaa-fb3eaa1cc9eb"
   },
   "outputs": [
    {
     "name": "stdout",
     "output_type": "stream",
     "text": [
      "[================================================--] 96.9% 1611.8/1662.8MB downloaded\n"
     ]
    },
    {
     "name": "stderr",
     "output_type": "stream",
     "text": [
      "/usr/local/lib/python3.6/dist-packages/smart_open/smart_open_lib.py:402: UserWarning: This function is deprecated, use smart_open.open instead. See the migration notes for details: https://github.com/RaRe-Technologies/smart_open/blob/master/README.rst#migrating-to-the-new-open-function\n",
      "  'See the migration notes for details: %s' % _MIGRATION_NOTES_URL\n"
     ]
    },
    {
     "name": "stdout",
     "output_type": "stream",
     "text": [
      "Loaded vocab size 2500000\n"
     ]
    }
   ],
   "source": [
    "# -----------------------------------\n",
    "# Run Cell to Load Word Vectors\n",
    "# Note: This may take several minutes\n",
    "# -----------------------------------\n",
    "wv_from_bin = load_word2vec()"
   ]
  },
  {
   "cell_type": "markdown",
   "metadata": {
    "colab_type": "text",
    "id": "nutxSVMXcIJQ"
   },
   "source": [
    "###Question 1 (2 points)\n",
    "\n",
    "The first question relates to the plot from the first part of the assignment. Please visit the Assignment 1 Part 2 Companion quiz in the SCPD learning platform, and answer this question prior to continuing. \n",
    "\n",
    "\n"
   ]
  },
  {
   "cell_type": "markdown",
   "metadata": {
    "colab_type": "text",
    "id": "Hx-f7eIbSkxx"
   },
   "source": [
    "\n",
    "### Cosine Similarity\n",
    "Now that we have word vectors, we need a way to quantify the similarity between individual words, according to these vectors. One such metric is cosine-similarity. We will be using this to find words that are \"close\" and \"far\" from one another.\n",
    "\n",
    "We can think of n-dimensional vectors as points in n-dimensional space. If we take this perspective L1 and L2 Distances help quantify the amount of space \"we must travel\" to get between these two points. Another approach is to examine the angle between two vectors. From trigonometry we know that:\n",
    "\n",
    "<img src=\"https://drive.google.com/uc?id=1PEmKQxxs5XB-N1Hz-jr514iWoqa62MgL\" width=20% style=\"float: center;\"></img>\n",
    "\n",
    "Instead of computing the actual angle, we can leave the similarity in terms of $similarity = cos(\\Theta)$. Formally the [Cosine Similarity](https://en.wikipedia.org/wiki/Cosine_similarity) $s$ between two vectors $p$ and $q$ is defined as:\n",
    "\n",
    "$$s = \\frac{p \\cdot q}{||p|| ||q||}, \\textrm{ where } s \\in [-1, 1] $$ "
   ]
  },
  {
   "cell_type": "markdown",
   "metadata": {
    "colab_type": "text",
    "id": "01SfDtSHcIJQ"
   },
   "source": [
    "### Questions 2-10: Homonymns and Similarity (4 points)\n",
    "\n",
    "Homonyms are words with more than one meaning. We want to see how our word embeddings capture this phenomenon for such words. We are going to test if, for certain homonyms, the top-10 most similar words (according to cosine similarity) contain related words from *both* meanings. For example, \"leaves\" has both \"vanishes\" and \"stalks\" in the top 10, and \"scoop\" has both \"handed_waffle_cone\" and \"lowdown\". \n",
    "\n",
    "**Note**: You should use the `wv_from_bin.most_similar(word)` function to get the top 10 similar words. This function ranks all other words in the vocabulary with respect to their cosine similarity to the given word. For further assistance please check the __[GenSim documentation](https://radimrehurek.com/gensim/models/keyedvectors.html#gensim.models.keyedvectors.FastTextKeyedVectors.most_similar)__.\n"
   ]
  },
  {
   "cell_type": "code",
   "execution_count": 4,
   "metadata": {
    "colab": {
     "base_uri": "https://localhost:8080/",
     "height": 238
    },
    "colab_type": "code",
    "id": "NT1TUUT0cIJR",
    "outputId": "ad3b582c-991d-40fe-fc4b-731d4bf5c6bc"
   },
   "outputs": [
    {
     "name": "stderr",
     "output_type": "stream",
     "text": [
      "/usr/local/lib/python3.6/dist-packages/gensim/matutils.py:737: FutureWarning: Conversion of the second argument of issubdtype from `int` to `np.signedinteger` is deprecated. In future, it will be treated as `np.int64 == np.dtype(int).type`.\n",
      "  if np.issubdtype(vec.dtype, np.int):\n"
     ]
    },
    {
     "data": {
      "text/plain": [
       "[('moles', 0.6953788995742798),\n",
       " ('pollo_en', 0.5143669247627258),\n",
       " ('freckle', 0.4829963445663452),\n",
       " ('cancerous_mole', 0.4787973165512085),\n",
       " ('birthmark', 0.46605658531188965),\n",
       " ('unibrow', 0.46520644426345825),\n",
       " ('spies', 0.4556558132171631),\n",
       " ('nodule', 0.45305347442626953),\n",
       " ('pube', 0.4359903931617737),\n",
       " ('wart', 0.4358214735984802)]"
      ]
     },
     "execution_count": 4,
     "metadata": {
      "tags": []
     },
     "output_type": "execute_result"
    }
   ],
   "source": [
    "### Run this cell to print out the Top-10 most similar words\n",
    "### Try the sample and then use this cell to complete Questions 2-10 in the companion quiz \n",
    "\n",
    "wv_from_bin.most_similar(\"mole\")\n"
   ]
  },
  {
   "cell_type": "code",
   "execution_count": 5,
   "metadata": {
    "colab": {
     "base_uri": "https://localhost:8080/",
     "height": 238
    },
    "colab_type": "code",
    "id": "wkbt4gzVrvoA",
    "outputId": "11b47245-c4f0-4213-af7f-689d09ffb262"
   },
   "outputs": [
    {
     "name": "stderr",
     "output_type": "stream",
     "text": [
      "/usr/local/lib/python3.6/dist-packages/gensim/matutils.py:737: FutureWarning: Conversion of the second argument of issubdtype from `int` to `np.signedinteger` is deprecated. In future, it will be treated as `np.int64 == np.dtype(int).type`.\n",
      "  if np.issubdtype(vec.dtype, np.int):\n"
     ]
    },
    {
     "data": {
      "text/plain": [
       "[('nut', 0.6487677097320557),\n",
       " ('crazy', 0.5603705644607544),\n",
       " ('nutty', 0.5235902070999146),\n",
       " ('bonkers', 0.5152066349983215),\n",
       " ('pecans_almonds', 0.4788070321083069),\n",
       " ('Neekam_proprietary_Blog', 0.47333618998527527),\n",
       " ('walnuts', 0.4707028865814209),\n",
       " ('regular_BetUS.com_columnists', 0.47036081552505493),\n",
       " ('allergics', 0.47001171112060547),\n",
       " ('batty', 0.46987098455429077)]"
      ]
     },
     "execution_count": 5,
     "metadata": {
      "tags": []
     },
     "output_type": "execute_result"
    }
   ],
   "source": [
    "wv_from_bin.most_similar(\"nuts\")"
   ]
  },
  {
   "cell_type": "code",
   "execution_count": 6,
   "metadata": {
    "colab": {
     "base_uri": "https://localhost:8080/",
     "height": 238
    },
    "colab_type": "code",
    "id": "6oYzEb9fr52P",
    "outputId": "d22d4aec-588a-4064-8917-3a1d98e1eb5b"
   },
   "outputs": [
    {
     "name": "stderr",
     "output_type": "stream",
     "text": [
      "/usr/local/lib/python3.6/dist-packages/gensim/matutils.py:737: FutureWarning: Conversion of the second argument of issubdtype from `int` to `np.signedinteger` is deprecated. In future, it will be treated as `np.int64 == np.dtype(int).type`.\n",
      "  if np.issubdtype(vec.dtype, np.int):\n"
     ]
    },
    {
     "data": {
      "text/plain": [
       "[('pens', 0.7111663818359375),\n",
       " ('pencil', 0.5767994523048401),\n",
       " ('quill', 0.5656782388687134),\n",
       " ('ballpoint', 0.5653775334358215),\n",
       " ('ballpoint_pen', 0.5415062308311462),\n",
       " ('feather_quill', 0.5316811203956604),\n",
       " ('notepad', 0.5266302227973938),\n",
       " ('quill_pen', 0.5166343450546265),\n",
       " ('biro', 0.514026403427124),\n",
       " ('fountain_pen', 0.5093279480934143)]"
      ]
     },
     "execution_count": 6,
     "metadata": {
      "tags": []
     },
     "output_type": "execute_result"
    }
   ],
   "source": [
    "wv_from_bin.most_similar(\"pen\")"
   ]
  },
  {
   "cell_type": "code",
   "execution_count": 12,
   "metadata": {
    "colab": {
     "base_uri": "https://localhost:8080/",
     "height": 238
    },
    "colab_type": "code",
    "id": "yLboNpzMsGzB",
    "outputId": "02f0ba44-6795-4f39-d62b-71680bb3d70f"
   },
   "outputs": [
    {
     "name": "stderr",
     "output_type": "stream",
     "text": [
      "/usr/local/lib/python3.6/dist-packages/gensim/matutils.py:737: FutureWarning: Conversion of the second argument of issubdtype from `int` to `np.signedinteger` is deprecated. In future, it will be treated as `np.int64 == np.dtype(int).type`.\n",
      "  if np.issubdtype(vec.dtype, np.int):\n"
     ]
    },
    {
     "data": {
      "text/plain": [
       "[('Right', 0.5703941583633423),\n",
       " ('wrong', 0.5534271001815796),\n",
       " ('##.Help_us', 0.5502839684486389),\n",
       " ('Goodwill_Catanese', 0.5159174799919128),\n",
       " ('left', 0.49213987588882446),\n",
       " ('fielder_Joe_Borchard', 0.48948538303375244),\n",
       " ('fielder_Ambiorix_Concepcion', 0.4841775894165039),\n",
       " ('now', 0.4794555902481079),\n",
       " ('fielder_Jeromy_Burnitz', 0.47718381881713867),\n",
       " ('fielder_Lucas_Duda', 0.47022590041160583)]"
      ]
     },
     "execution_count": 12,
     "metadata": {
      "tags": []
     },
     "output_type": "execute_result"
    }
   ],
   "source": [
    "wv_from_bin.most_similar(\"right\")"
   ]
  },
  {
   "cell_type": "code",
   "execution_count": 11,
   "metadata": {
    "colab": {
     "base_uri": "https://localhost:8080/",
     "height": 238
    },
    "colab_type": "code",
    "id": "dgtKcZiBtQUN",
    "outputId": "208efcbb-25f2-41dd-c3ae-65aff9ca4043"
   },
   "outputs": [
    {
     "name": "stderr",
     "output_type": "stream",
     "text": [
      "/usr/local/lib/python3.6/dist-packages/gensim/matutils.py:737: FutureWarning: Conversion of the second argument of issubdtype from `int` to `np.signedinteger` is deprecated. In future, it will be treated as `np.int64 == np.dtype(int).type`.\n",
      "  if np.issubdtype(vec.dtype, np.int):\n"
     ]
    },
    {
     "data": {
      "text/plain": [
       "[('drives', 0.7914609909057617),\n",
       " ('driving', 0.5405872464179993),\n",
       " ('drove', 0.5120137929916382),\n",
       " ('push', 0.4905555248260498),\n",
       " ('run', 0.4834049642086029),\n",
       " ('driven', 0.44512295722961426),\n",
       " ('Drives', 0.42788973450660706),\n",
       " ('SFF_SAS', 0.4223554730415344),\n",
       " ('bootable_flash', 0.41521167755126953),\n",
       " ('SanDisk_Ultra_Backup', 0.414913147687912)]"
      ]
     },
     "execution_count": 11,
     "metadata": {
      "tags": []
     },
     "output_type": "execute_result"
    }
   ],
   "source": [
    "wv_from_bin.most_similar(\"drive\")"
   ]
  },
  {
   "cell_type": "code",
   "execution_count": 15,
   "metadata": {
    "colab": {
     "base_uri": "https://localhost:8080/",
     "height": 238
    },
    "colab_type": "code",
    "id": "hXtnJF_8tp5T",
    "outputId": "67a8629d-9c4a-4a5c-b1d1-27d75150baa1"
   },
   "outputs": [
    {
     "name": "stderr",
     "output_type": "stream",
     "text": [
      "/usr/local/lib/python3.6/dist-packages/gensim/matutils.py:737: FutureWarning: Conversion of the second argument of issubdtype from `int` to `np.signedinteger` is deprecated. In future, it will be treated as `np.int64 == np.dtype(int).type`.\n",
      "  if np.issubdtype(vec.dtype, np.int):\n"
     ]
    },
    {
     "data": {
      "text/plain": [
       "[('surged', 0.8056201338768005),\n",
       " ('climbed', 0.8045108914375305),\n",
       " ('soared', 0.7695155143737793),\n",
       " ('fell', 0.7688519954681396),\n",
       " ('tumbled', 0.7256063222885132),\n",
       " ('dipped', 0.720984697341919),\n",
       " ('jumped', 0.6997674107551575),\n",
       " ('inched', 0.6791028380393982),\n",
       " ('risen', 0.6686744093894958),\n",
       " ('plunged', 0.663558840751648)]"
      ]
     },
     "execution_count": 15,
     "metadata": {
      "tags": []
     },
     "output_type": "execute_result"
    }
   ],
   "source": [
    "wv_from_bin.most_similar(\"rose\")"
   ]
  },
  {
   "cell_type": "code",
   "execution_count": 16,
   "metadata": {
    "colab": {
     "base_uri": "https://localhost:8080/",
     "height": 238
    },
    "colab_type": "code",
    "id": "idlkDClEuJbQ",
    "outputId": "20fee35e-297b-43e3-d949-882441d9d271"
   },
   "outputs": [
    {
     "name": "stderr",
     "output_type": "stream",
     "text": [
      "/usr/local/lib/python3.6/dist-packages/gensim/matutils.py:737: FutureWarning: Conversion of the second argument of issubdtype from `int` to `np.signedinteger` is deprecated. In future, it will be treated as `np.int64 == np.dtype(int).type`.\n",
      "  if np.issubdtype(vec.dtype, np.int):\n"
     ]
    },
    {
     "data": {
      "text/plain": [
       "[('means', 0.6425307989120483),\n",
       " ('imply', 0.620326042175293),\n",
       " ('equate', 0.5891612768173218),\n",
       " ('necessarily', 0.5722533464431763),\n",
       " ('necessitate', 0.5695107579231262),\n",
       " ('entail', 0.5649572610855103),\n",
       " ('bode_well', 0.5476653575897217),\n",
       " ('portend', 0.5455029010772705),\n",
       " ('do', 0.5375761985778809),\n",
       " ('anyway', 0.5220909118652344)]"
      ]
     },
     "execution_count": 16,
     "metadata": {
      "tags": []
     },
     "output_type": "execute_result"
    }
   ],
   "source": [
    "wv_from_bin.most_similar(\"mean\")"
   ]
  },
  {
   "cell_type": "code",
   "execution_count": 17,
   "metadata": {
    "colab": {
     "base_uri": "https://localhost:8080/",
     "height": 238
    },
    "colab_type": "code",
    "id": "DIvLPCz6u_2A",
    "outputId": "ceef356e-5107-4e54-f6bb-d543ee73422f"
   },
   "outputs": [
    {
     "name": "stderr",
     "output_type": "stream",
     "text": [
      "/usr/local/lib/python3.6/dist-packages/gensim/matutils.py:737: FutureWarning: Conversion of the second argument of issubdtype from `int` to `np.signedinteger` is deprecated. In future, it will be treated as `np.int64 == np.dtype(int).type`.\n",
      "  if np.issubdtype(vec.dtype, np.int):\n"
     ]
    },
    {
     "data": {
      "text/plain": [
       "[('noticed', 0.5968518853187561),\n",
       " ('witnessed', 0.5899658203125),\n",
       " ('seeing', 0.5811247825622559),\n",
       " ('looked', 0.567682683467865),\n",
       " ('came', 0.5614316463470459),\n",
       " ('watched', 0.5570547580718994),\n",
       " ('seen', 0.5488225221633911),\n",
       " ('showed', 0.5405093431472778),\n",
       " ('went', 0.5265681743621826),\n",
       " ('see', 0.515012264251709)]"
      ]
     },
     "execution_count": 17,
     "metadata": {
      "tags": []
     },
     "output_type": "execute_result"
    }
   ],
   "source": [
    "wv_from_bin.most_similar(\"saw\")"
   ]
  },
  {
   "cell_type": "markdown",
   "metadata": {
    "colab_type": "text",
    "id": "K5-CpkCmcIJV"
   },
   "source": [
    "### Questions 11-19: Synonyms & Antonyms (4 points) \n",
    "\n",
    "When considering Cosine Similarity, it's often more convenient to think of Cosine Distance, which is simply (1 - Cosine Similarity).\n",
    "\n",
    "We will look for triplets of words (w1,w2,w3) where w1 and w2 are synonyms and w1 and w3 are antonyms, but Cosine Distance(w1,w3) < Cosine Distance(w1,w2). For example, w1=\"happy\" is closer to w3=\"sad\" than to w2=\"cheerful\".\n",
    "\n",
    "You should use the the `wv_from_bin.distance(w1, w2)` function here in order to compute the cosine distance between two words. Please see the __[GenSim documentation](https://radimrehurek.com/gensim/models/keyedvectors.html#gensim.models.keyedvectors.FastTextKeyedVectors.distance)__ for further assistance.\n"
   ]
  },
  {
   "cell_type": "code",
   "execution_count": 18,
   "metadata": {
    "colab": {
     "base_uri": "https://localhost:8080/",
     "height": 104
    },
    "colab_type": "code",
    "id": "uqZN_746cIJV",
    "outputId": "f43d58da-f1fa-4637-89da-f5881c4d8378"
   },
   "outputs": [
    {
     "name": "stdout",
     "output_type": "stream",
     "text": [
      "Synonyms happy, cheerful have cosine distance: 0.6162261664867401\n",
      "Antonyms happy, sad have cosine distance: 0.46453857421875\n"
     ]
    },
    {
     "name": "stderr",
     "output_type": "stream",
     "text": [
      "/usr/local/lib/python3.6/dist-packages/gensim/matutils.py:737: FutureWarning: Conversion of the second argument of issubdtype from `int` to `np.signedinteger` is deprecated. In future, it will be treated as `np.int64 == np.dtype(int).type`.\n",
      "  if np.issubdtype(vec.dtype, np.int):\n"
     ]
    }
   ],
   "source": [
    "### Run this cell to compare cosine distances between synonyms and antonyms\n",
    "### Try the sample and then use this cell to complete Questions 11-19 in the companion quiz\n",
    "\n",
    "w1 = \"happy\"\n",
    "w2 = \"cheerful\"\n",
    "w3 = \"sad\"\n",
    "w1_w2_dist = wv_from_bin.distance(w1, w2)\n",
    "w1_w3_dist = wv_from_bin.distance(w1, w3)\n",
    "\n",
    "print(\"Synonyms {}, {} have cosine distance: {}\".format(w1, w2, w1_w2_dist))\n",
    "print(\"Antonyms {}, {} have cosine distance: {}\".format(w1, w3, w1_w3_dist))\n"
   ]
  },
  {
   "cell_type": "code",
   "execution_count": 19,
   "metadata": {
    "colab": {
     "base_uri": "https://localhost:8080/",
     "height": 104
    },
    "colab_type": "code",
    "id": "umtKWTGZy0v2",
    "outputId": "8cffc7f0-5d40-4680-82f2-ce794d9cb508"
   },
   "outputs": [
    {
     "name": "stdout",
     "output_type": "stream",
     "text": [
      "Synonyms right, correct have cosine distance: 0.5972667038440704\n",
      "Antonyms right, wrong have cosine distance: 0.44657284021377563\n"
     ]
    },
    {
     "name": "stderr",
     "output_type": "stream",
     "text": [
      "/usr/local/lib/python3.6/dist-packages/gensim/matutils.py:737: FutureWarning: Conversion of the second argument of issubdtype from `int` to `np.signedinteger` is deprecated. In future, it will be treated as `np.int64 == np.dtype(int).type`.\n",
      "  if np.issubdtype(vec.dtype, np.int):\n"
     ]
    }
   ],
   "source": [
    "w1 = \"right\"\n",
    "w2 = \"correct\"\n",
    "w3 = \"wrong\"\n",
    "w1_w2_dist = wv_from_bin.distance(w1, w2)\n",
    "w1_w3_dist = wv_from_bin.distance(w1, w3)\n",
    "\n",
    "print(\"Synonyms {}, {} have cosine distance: {}\".format(w1, w2, w1_w2_dist))\n",
    "print(\"Antonyms {}, {} have cosine distance: {}\".format(w1, w3, w1_w3_dist))"
   ]
  },
  {
   "cell_type": "code",
   "execution_count": 20,
   "metadata": {
    "colab": {
     "base_uri": "https://localhost:8080/",
     "height": 104
    },
    "colab_type": "code",
    "id": "wQ-LS_5qzDwn",
    "outputId": "46587302-4979-420e-e86c-d1104db77b24"
   },
   "outputs": [
    {
     "name": "stdout",
     "output_type": "stream",
     "text": [
      "Synonyms big, large have cosine distance: 0.44385212659835815\n",
      "Antonyms big, small have cosine distance: 0.5041321516036987\n"
     ]
    },
    {
     "name": "stderr",
     "output_type": "stream",
     "text": [
      "/usr/local/lib/python3.6/dist-packages/gensim/matutils.py:737: FutureWarning: Conversion of the second argument of issubdtype from `int` to `np.signedinteger` is deprecated. In future, it will be treated as `np.int64 == np.dtype(int).type`.\n",
      "  if np.issubdtype(vec.dtype, np.int):\n"
     ]
    }
   ],
   "source": [
    "w1 = \"big\"\n",
    "w2 = \"large\"\n",
    "w3 = \"small\"\n",
    "w1_w2_dist = wv_from_bin.distance(w1, w2)\n",
    "w1_w3_dist = wv_from_bin.distance(w1, w3)\n",
    "\n",
    "print(\"Synonyms {}, {} have cosine distance: {}\".format(w1, w2, w1_w2_dist))\n",
    "print(\"Antonyms {}, {} have cosine distance: {}\".format(w1, w3, w1_w3_dist))"
   ]
  },
  {
   "cell_type": "code",
   "execution_count": 21,
   "metadata": {
    "colab": {
     "base_uri": "https://localhost:8080/",
     "height": 104
    },
    "colab_type": "code",
    "id": "PKnfruWXzSjH",
    "outputId": "6b7e7bae-b030-4400-9b00-e8fff3916288"
   },
   "outputs": [
    {
     "name": "stdout",
     "output_type": "stream",
     "text": [
      "Synonyms good, nice have cosine distance: 0.3163908123970032\n",
      "Antonyms good, bad have cosine distance: 0.28099489212036133\n"
     ]
    },
    {
     "name": "stderr",
     "output_type": "stream",
     "text": [
      "/usr/local/lib/python3.6/dist-packages/gensim/matutils.py:737: FutureWarning: Conversion of the second argument of issubdtype from `int` to `np.signedinteger` is deprecated. In future, it will be treated as `np.int64 == np.dtype(int).type`.\n",
      "  if np.issubdtype(vec.dtype, np.int):\n"
     ]
    }
   ],
   "source": [
    "w1 = \"good\"\n",
    "w2 = \"nice\"\n",
    "w3 = \"bad\"\n",
    "w1_w2_dist = wv_from_bin.distance(w1, w2)\n",
    "w1_w3_dist = wv_from_bin.distance(w1, w3)\n",
    "\n",
    "print(\"Synonyms {}, {} have cosine distance: {}\".format(w1, w2, w1_w2_dist))\n",
    "print(\"Antonyms {}, {} have cosine distance: {}\".format(w1, w3, w1_w3_dist))"
   ]
  },
  {
   "cell_type": "code",
   "execution_count": 22,
   "metadata": {
    "colab": {
     "base_uri": "https://localhost:8080/",
     "height": 104
    },
    "colab_type": "code",
    "id": "Rtid_gcIzgtg",
    "outputId": "ea13d7e9-a39e-4422-9ff6-810d90a37666"
   },
   "outputs": [
    {
     "name": "stdout",
     "output_type": "stream",
     "text": [
      "Synonyms day, daytime have cosine distance: 0.749595046043396\n",
      "Antonyms day, night have cosine distance: 0.49299925565719604\n"
     ]
    },
    {
     "name": "stderr",
     "output_type": "stream",
     "text": [
      "/usr/local/lib/python3.6/dist-packages/gensim/matutils.py:737: FutureWarning: Conversion of the second argument of issubdtype from `int` to `np.signedinteger` is deprecated. In future, it will be treated as `np.int64 == np.dtype(int).type`.\n",
      "  if np.issubdtype(vec.dtype, np.int):\n"
     ]
    }
   ],
   "source": [
    "w1 = \"day\"\n",
    "w2 = \"daytime\"\n",
    "w3 = \"night\"\n",
    "w1_w2_dist = wv_from_bin.distance(w1, w2)\n",
    "w1_w3_dist = wv_from_bin.distance(w1, w3)\n",
    "\n",
    "print(\"Synonyms {}, {} have cosine distance: {}\".format(w1, w2, w1_w2_dist))\n",
    "print(\"Antonyms {}, {} have cosine distance: {}\".format(w1, w3, w1_w3_dist))"
   ]
  },
  {
   "cell_type": "code",
   "execution_count": 23,
   "metadata": {
    "colab": {
     "base_uri": "https://localhost:8080/",
     "height": 104
    },
    "colab_type": "code",
    "id": "p5uplFNBzsfI",
    "outputId": "b3e4c620-0db2-4540-d6b6-aca922a03cac"
   },
   "outputs": [
    {
     "name": "stdout",
     "output_type": "stream",
     "text": [
      "Synonyms insane, crazy have cosine distance: 0.26609575748443604\n",
      "Antonyms insane, sane have cosine distance: 0.40459734201431274\n"
     ]
    },
    {
     "name": "stderr",
     "output_type": "stream",
     "text": [
      "/usr/local/lib/python3.6/dist-packages/gensim/matutils.py:737: FutureWarning: Conversion of the second argument of issubdtype from `int` to `np.signedinteger` is deprecated. In future, it will be treated as `np.int64 == np.dtype(int).type`.\n",
      "  if np.issubdtype(vec.dtype, np.int):\n"
     ]
    }
   ],
   "source": [
    "w1 = \"insane\"\n",
    "w2 = \"crazy\"\n",
    "w3 = \"sane\"\n",
    "w1_w2_dist = wv_from_bin.distance(w1, w2)\n",
    "w1_w3_dist = wv_from_bin.distance(w1, w3)\n",
    "\n",
    "print(\"Synonyms {}, {} have cosine distance: {}\".format(w1, w2, w1_w2_dist))\n",
    "print(\"Antonyms {}, {} have cosine distance: {}\".format(w1, w3, w1_w3_dist))"
   ]
  },
  {
   "cell_type": "code",
   "execution_count": 24,
   "metadata": {
    "colab": {
     "base_uri": "https://localhost:8080/",
     "height": 104
    },
    "colab_type": "code",
    "id": "QYHRXYYiz9NY",
    "outputId": "951abcb6-fa27-42c2-f916-a8972296a6f4"
   },
   "outputs": [
    {
     "name": "stdout",
     "output_type": "stream",
     "text": [
      "Synonyms several, numerous have cosine distance: 0.20559799671173096\n",
      "Antonyms several, one have cosine distance: 0.5978294909000397\n"
     ]
    },
    {
     "name": "stderr",
     "output_type": "stream",
     "text": [
      "/usr/local/lib/python3.6/dist-packages/gensim/matutils.py:737: FutureWarning: Conversion of the second argument of issubdtype from `int` to `np.signedinteger` is deprecated. In future, it will be treated as `np.int64 == np.dtype(int).type`.\n",
      "  if np.issubdtype(vec.dtype, np.int):\n"
     ]
    }
   ],
   "source": [
    "w1 = \"several\"\n",
    "w2 = \"numerous\"\n",
    "w3 = \"one\"\n",
    "w1_w2_dist = wv_from_bin.distance(w1, w2)\n",
    "w1_w3_dist = wv_from_bin.distance(w1, w3)\n",
    "\n",
    "print(\"Synonyms {}, {} have cosine distance: {}\".format(w1, w2, w1_w2_dist))\n",
    "print(\"Antonyms {}, {} have cosine distance: {}\".format(w1, w3, w1_w3_dist))"
   ]
  },
  {
   "cell_type": "code",
   "execution_count": 25,
   "metadata": {
    "colab": {
     "base_uri": "https://localhost:8080/",
     "height": 104
    },
    "colab_type": "code",
    "id": "Vt0J9MmK0QgF",
    "outputId": "885e8a12-ae1f-47dd-9398-0ca2751f0e6a"
   },
   "outputs": [
    {
     "name": "stdout",
     "output_type": "stream",
     "text": [
      "Synonyms antonym, synonym have cosine distance: 0.43189460039138794\n",
      "Antonyms antonym, opposite have cosine distance: 0.8862465396523476\n"
     ]
    },
    {
     "name": "stderr",
     "output_type": "stream",
     "text": [
      "/usr/local/lib/python3.6/dist-packages/gensim/matutils.py:737: FutureWarning: Conversion of the second argument of issubdtype from `int` to `np.signedinteger` is deprecated. In future, it will be treated as `np.int64 == np.dtype(int).type`.\n",
      "  if np.issubdtype(vec.dtype, np.int):\n"
     ]
    }
   ],
   "source": [
    "w1 = \"antonym\"\n",
    "w2 = \"synonym\"\n",
    "w3 = \"opposite\"\n",
    "w1_w2_dist = wv_from_bin.distance(w1, w2)\n",
    "w1_w3_dist = wv_from_bin.distance(w1, w3)\n",
    "\n",
    "print(\"Synonyms {}, {} have cosine distance: {}\".format(w1, w2, w1_w2_dist))\n",
    "print(\"Antonyms {}, {} have cosine distance: {}\".format(w1, w3, w1_w3_dist))"
   ]
  },
  {
   "cell_type": "markdown",
   "metadata": {
    "colab_type": "text",
    "id": "MCV6TLW8cIJa"
   },
   "source": [
    "### Questions 20-31: Analogies with Word Vectors (3 Points)\n",
    "Word2Vec vectors have been shown to *sometimes* exhibit the ability to solve analogies. \n",
    "\n",
    "As an example, for the analogy \"man : king :: woman : x\", what is x?\n",
    "\n",
    "In the cell below, we show you how to use word vectors to find x. The `most_similar` function finds words that are most similar to the words in the `positive` list and most dissimilar from the words in the `negative` list. **The model's proposed answer to the analogy will be the word ranked most similar (largest numerical value).**\n",
    "\n",
    "We will test whether or not the word vectors can solve a handful of pre-selected analogies. \n",
    "\n",
    "**Note:** Further Documentation on the `most_similar` function can be found within the __[GenSim documentation](https://radimrehurek.com/gensim/models/keyedvectors.html#gensim.models.keyedvectors.FastTextKeyedVectors.most_similar)__."
   ]
  },
  {
   "cell_type": "code",
   "execution_count": 26,
   "metadata": {
    "colab": {
     "base_uri": "https://localhost:8080/",
     "height": 238
    },
    "colab_type": "code",
    "id": "SOwdmtd5cIJa",
    "outputId": "4a7b9f7b-1932-4ad4-f1fc-a39a279a0224"
   },
   "outputs": [
    {
     "name": "stderr",
     "output_type": "stream",
     "text": [
      "/usr/local/lib/python3.6/dist-packages/gensim/matutils.py:737: FutureWarning: Conversion of the second argument of issubdtype from `int` to `np.signedinteger` is deprecated. In future, it will be treated as `np.int64 == np.dtype(int).type`.\n",
      "  if np.issubdtype(vec.dtype, np.int):\n"
     ]
    },
    {
     "name": "stdout",
     "output_type": "stream",
     "text": [
      "[('queen', 0.7118192911148071),\n",
      " ('monarch', 0.6189674139022827),\n",
      " ('princess', 0.5902431011199951),\n",
      " ('crown_prince', 0.5499460697174072),\n",
      " ('prince', 0.5377321243286133),\n",
      " ('kings', 0.5236844420433044),\n",
      " ('Queen_Consort', 0.5235945582389832),\n",
      " ('queens', 0.518113374710083),\n",
      " ('sultan', 0.5098593235015869),\n",
      " ('monarchy', 0.5087411999702454)]\n"
     ]
    }
   ],
   "source": [
    "# Run this cell to answer the analogy -- man : king :: woman : x\n",
    "# Try the sample and then use this cell to complete Questions 20-31 in the companion quiz\n",
    "\n",
    "pprint.pprint(wv_from_bin.most_similar(positive=['woman', 'king'], negative=['man']))"
   ]
  },
  {
   "cell_type": "code",
   "execution_count": 38,
   "metadata": {
    "colab": {
     "base_uri": "https://localhost:8080/",
     "height": 238
    },
    "colab_type": "code",
    "id": "dfSC91se3y1P",
    "outputId": "30708529-fcad-410a-ed3c-fb1b5fbe8677"
   },
   "outputs": [
    {
     "name": "stderr",
     "output_type": "stream",
     "text": [
      "/usr/local/lib/python3.6/dist-packages/gensim/matutils.py:737: FutureWarning: Conversion of the second argument of issubdtype from `int` to `np.signedinteger` is deprecated. In future, it will be treated as `np.int64 == np.dtype(int).type`.\n",
      "  if np.issubdtype(vec.dtype, np.int):\n"
     ]
    },
    {
     "name": "stdout",
     "output_type": "stream",
     "text": [
      "[('boat', 0.5355114936828613),\n",
      " ('fishing_boat', 0.5340368151664734),\n",
      " ('sailboat', 0.5244715213775635),\n",
      " ('trawler', 0.48814260959625244),\n",
      " ('fishing_trawler', 0.485969603061676),\n",
      " ('Alvei', 0.4799835681915283),\n",
      " ('inflatable_dinghy', 0.4771292209625244),\n",
      " ('vessel', 0.4747542142868042),\n",
      " ('rough_seas', 0.47456133365631104),\n",
      " ('ferry_Princess_Ashika', 0.4704197347164154)]\n"
     ]
    }
   ],
   "source": [
    "pprint.pprint(wv_from_bin.most_similar(positive=['sea', 'plane'], negative=['air']))"
   ]
  },
  {
   "cell_type": "code",
   "execution_count": 39,
   "metadata": {
    "colab": {
     "base_uri": "https://localhost:8080/",
     "height": 238
    },
    "colab_type": "code",
    "id": "MmjWct5x4IgV",
    "outputId": "d17c6671-e55c-4247-fe66-7f82e9d82cdc"
   },
   "outputs": [
    {
     "name": "stderr",
     "output_type": "stream",
     "text": [
      "/usr/local/lib/python3.6/dist-packages/gensim/matutils.py:737: FutureWarning: Conversion of the second argument of issubdtype from `int` to `np.signedinteger` is deprecated. In future, it will be treated as `np.int64 == np.dtype(int).type`.\n",
      "  if np.issubdtype(vec.dtype, np.int):\n"
     ]
    },
    {
     "name": "stdout",
     "output_type": "stream",
     "text": [
      "[('funny', 0.5841635465621948),\n",
      " ('joke', 0.548027515411377),\n",
      " ('chuckle', 0.526171088218689),\n",
      " ('laughing', 0.519500732421875),\n",
      " ('giggle', 0.5119887590408325),\n",
      " ('laugh_uncontrollably', 0.5067344903945923),\n",
      " ('Aaaaah', 0.49892422556877136),\n",
      " ('sarcastic_quip', 0.49803200364112854),\n",
      " ('unspeakably_sad', 0.49446696043014526),\n",
      " ('laughs', 0.4860389828681946)]\n"
     ]
    }
   ],
   "source": [
    "pprint.pprint(wv_from_bin.most_similar(positive=['sad', 'laugh'], negative=['happy']))"
   ]
  },
  {
   "cell_type": "code",
   "execution_count": 40,
   "metadata": {
    "colab": {
     "base_uri": "https://localhost:8080/",
     "height": 238
    },
    "colab_type": "code",
    "id": "kpZUFhlh4WjV",
    "outputId": "0f9ba564-3443-4191-db6b-d9042823a8cc"
   },
   "outputs": [
    {
     "name": "stderr",
     "output_type": "stream",
     "text": [
      "/usr/local/lib/python3.6/dist-packages/gensim/matutils.py:737: FutureWarning: Conversion of the second argument of issubdtype from `int` to `np.signedinteger` is deprecated. In future, it will be treated as `np.int64 == np.dtype(int).type`.\n",
      "  if np.issubdtype(vec.dtype, np.int):\n"
     ]
    },
    {
     "name": "stdout",
     "output_type": "stream",
     "text": [
      "[('puppy', 0.769972562789917),\n",
      " ('pup', 0.6861710548400879),\n",
      " ('pit_bull', 0.6776559352874756),\n",
      " ('dogs', 0.6770986318588257),\n",
      " ('Rottweiler', 0.66466224193573),\n",
      " ('pit_bull_mix', 0.6585750579833984),\n",
      " ('Pomeranian', 0.655381441116333),\n",
      " ('Labrador_retriever_mix', 0.6510828733444214),\n",
      " ('German_shepherd', 0.6490000486373901),\n",
      " ('puppies', 0.6450917720794678)]\n"
     ]
    }
   ],
   "source": [
    "pprint.pprint(wv_from_bin.most_similar(positive=['dog', 'kitten'], negative=['cat']))"
   ]
  },
  {
   "cell_type": "code",
   "execution_count": 42,
   "metadata": {
    "colab": {
     "base_uri": "https://localhost:8080/",
     "height": 238
    },
    "colab_type": "code",
    "id": "QkwqdsdJ47ON",
    "outputId": "a2648db0-21a5-4358-e1ff-8efb03e3f997"
   },
   "outputs": [
    {
     "name": "stderr",
     "output_type": "stream",
     "text": [
      "/usr/local/lib/python3.6/dist-packages/gensim/matutils.py:737: FutureWarning: Conversion of the second argument of issubdtype from `int` to `np.signedinteger` is deprecated. In future, it will be treated as `np.int64 == np.dtype(int).type`.\n",
      "  if np.issubdtype(vec.dtype, np.int):\n"
     ]
    },
    {
     "name": "stdout",
     "output_type": "stream",
     "text": [
      "[('berlin', 0.48413652181625366),\n",
      " ('german', 0.4656967520713806),\n",
      " ('lindsay_lohan', 0.4559224247932434),\n",
      " ('heidi', 0.44840937852859497),\n",
      " ('switzerland', 0.4447983503341675),\n",
      " ('lil_kim', 0.44306039810180664),\n",
      " ('las_vegas', 0.4418063759803772),\n",
      " ('christina', 0.43938425183296204),\n",
      " ('joel', 0.4375365078449249),\n",
      " ('russia', 0.43744248151779175)]\n"
     ]
    }
   ],
   "source": [
    "pprint.pprint(wv_from_bin.most_similar(positive=['germany', 'paris'], negative=['france']))"
   ]
  },
  {
   "cell_type": "code",
   "execution_count": 41,
   "metadata": {
    "colab": {
     "base_uri": "https://localhost:8080/",
     "height": 238
    },
    "colab_type": "code",
    "id": "rV5LTypQ4jAp",
    "outputId": "78033019-9da9-4124-e058-e79825418181"
   },
   "outputs": [
    {
     "name": "stderr",
     "output_type": "stream",
     "text": [
      "/usr/local/lib/python3.6/dist-packages/gensim/matutils.py:737: FutureWarning: Conversion of the second argument of issubdtype from `int` to `np.signedinteger` is deprecated. In future, it will be treated as `np.int64 == np.dtype(int).type`.\n",
      "  if np.issubdtype(vec.dtype, np.int):\n"
     ]
    },
    {
     "name": "stdout",
     "output_type": "stream",
     "text": [
      "[('meats', 0.5703098773956299),\n",
      " ('pork', 0.4979688227176666),\n",
      " ('beef', 0.4842023551464081),\n",
      " ('unprocessed_meats', 0.4841699004173279),\n",
      " ('soy_hulls', 0.47137123346328735),\n",
      " ('veal', 0.4531157612800598),\n",
      " ('primals', 0.4516943097114563),\n",
      " ('Boneless_breast', 0.44742533564567566),\n",
      " ('toxic_alkaloids', 0.4445357620716095),\n",
      " ('goat_meat', 0.443511039018631)]\n"
     ]
    }
   ],
   "source": [
    "pprint.pprint(wv_from_bin.most_similar(positive=['herbivore', 'meat'], negative=['carnivore']))"
   ]
  },
  {
   "cell_type": "code",
   "execution_count": 43,
   "metadata": {
    "colab": {
     "base_uri": "https://localhost:8080/",
     "height": 238
    },
    "colab_type": "code",
    "id": "4xJA4J-t5XeB",
    "outputId": "11ea6a16-8780-42f5-e339-ed6a33aef354"
   },
   "outputs": [
    {
     "name": "stderr",
     "output_type": "stream",
     "text": [
      "/usr/local/lib/python3.6/dist-packages/gensim/matutils.py:737: FutureWarning: Conversion of the second argument of issubdtype from `int` to `np.signedinteger` is deprecated. In future, it will be treated as `np.int64 == np.dtype(int).type`.\n",
      "  if np.issubdtype(vec.dtype, np.int):\n"
     ]
    },
    {
     "name": "stdout",
     "output_type": "stream",
     "text": [
      "[('frass', 0.5099734663963318),\n",
      " ('cambium', 0.49994856119155884),\n",
      " ('beetles_burrow', 0.4957100749015808),\n",
      " ('chittering', 0.49452582001686096),\n",
      " ('sapwood', 0.49447116255760193),\n",
      " ('barky', 0.48963040113449097),\n",
      " ('treefrogs', 0.4850967526435852),\n",
      " ('sapsuckers', 0.4804511070251465),\n",
      " ('tree_bark', 0.47680342197418213),\n",
      " ('moth_caterpillars', 0.4735950231552124)]\n"
     ]
    }
   ],
   "source": [
    "pprint.pprint(wv_from_bin.most_similar(positive=['cat', 'bark'], negative=['dog']))"
   ]
  },
  {
   "cell_type": "code",
   "execution_count": 44,
   "metadata": {
    "colab": {
     "base_uri": "https://localhost:8080/",
     "height": 238
    },
    "colab_type": "code",
    "id": "lX6gHD_95lu0",
    "outputId": "d92133a0-b442-4b21-c9a8-213ecd45b14b"
   },
   "outputs": [
    {
     "name": "stderr",
     "output_type": "stream",
     "text": [
      "/usr/local/lib/python3.6/dist-packages/gensim/matutils.py:737: FutureWarning: Conversion of the second argument of issubdtype from `int` to `np.signedinteger` is deprecated. In future, it will be treated as `np.int64 == np.dtype(int).type`.\n",
      "  if np.issubdtype(vec.dtype, np.int):\n"
     ]
    },
    {
     "name": "stdout",
     "output_type": "stream",
     "text": [
      "[('tennis', 0.6464535593986511),\n",
      " ('basketball', 0.5445076823234558),\n",
      " ('Tennis', 0.520628809928894),\n",
      " ('racquets', 0.515256404876709),\n",
      " ('soccer', 0.4958398938179016),\n",
      " ('sports', 0.495653361082077),\n",
      " ('softball', 0.49450376629829407),\n",
      " ('golf', 0.48922017216682434),\n",
      " ('pickleball', 0.48510220646858215),\n",
      " ('volleyball', 0.4848877191543579)]\n"
     ]
    }
   ],
   "source": [
    "pprint.pprint(wv_from_bin.most_similar(positive=['racquet', 'baseball'], negative=['bat']))"
   ]
  },
  {
   "cell_type": "code",
   "execution_count": 45,
   "metadata": {
    "colab": {
     "base_uri": "https://localhost:8080/",
     "height": 238
    },
    "colab_type": "code",
    "id": "bZO4WGlD5_Fg",
    "outputId": "93144f46-24a2-4a22-d996-4eb20b34228b"
   },
   "outputs": [
    {
     "name": "stderr",
     "output_type": "stream",
     "text": [
      "/usr/local/lib/python3.6/dist-packages/gensim/matutils.py:737: FutureWarning: Conversion of the second argument of issubdtype from `int` to `np.signedinteger` is deprecated. In future, it will be treated as `np.int64 == np.dtype(int).type`.\n",
      "  if np.issubdtype(vec.dtype, np.int):\n"
     ]
    },
    {
     "name": "stdout",
     "output_type": "stream",
     "text": [
      "[('Christianity', 0.6882044076919556),\n",
      " ('Catholicism', 0.6118013262748718),\n",
      " ('Catholic_Church', 0.5610004663467407),\n",
      " ('Biblical_teachings', 0.5582910776138306),\n",
      " ('Gospel', 0.5525078773498535),\n",
      " ('Reformed_theology', 0.5480355620384216),\n",
      " ('Unitarian_Universalism', 0.5441610813140869),\n",
      " ('Roman_Catholicism', 0.5423140525817871),\n",
      " ('Jesus_Christ', 0.5416033864021301),\n",
      " ('Anglicanism', 0.5408859252929688)]\n"
     ]
    }
   ],
   "source": [
    "pprint.pprint(wv_from_bin.most_similar(positive=['church', 'Islam'], negative=['mosque']))"
   ]
  },
  {
   "cell_type": "code",
   "execution_count": 46,
   "metadata": {
    "colab": {
     "base_uri": "https://localhost:8080/",
     "height": 238
    },
    "colab_type": "code",
    "id": "Hb5ZWMZR8Tz_",
    "outputId": "2e7f3fc0-31d3-4e19-b3bb-10a2bc7f3cc7"
   },
   "outputs": [
    {
     "name": "stderr",
     "output_type": "stream",
     "text": [
      "/usr/local/lib/python3.6/dist-packages/gensim/matutils.py:737: FutureWarning: Conversion of the second argument of issubdtype from `int` to `np.signedinteger` is deprecated. In future, it will be treated as `np.int64 == np.dtype(int).type`.\n",
      "  if np.issubdtype(vec.dtype, np.int):\n"
     ]
    },
    {
     "name": "stdout",
     "output_type": "stream",
     "text": [
      "[('shorter', 0.5538737177848816),\n",
      " ('less', 0.4528019428253174),\n",
      " ('fewer', 0.4269722104072571),\n",
      " ('Longer', 0.4243296980857849),\n",
      " ('sooner', 0.405620276927948),\n",
      " ('Short', 0.3926800787448883),\n",
      " ('meaning', 0.3800658583641052),\n",
      " ('shorter_durations', 0.3696485757827759),\n",
      " ('more', 0.3575344681739807),\n",
      " ('smaller', 0.35055944323539734)]\n"
     ]
    }
   ],
   "source": [
    "pprint.pprint(wv_from_bin.most_similar(positive=['short', 'longer'], negative=['long']))"
   ]
  },
  {
   "cell_type": "code",
   "execution_count": 47,
   "metadata": {
    "colab": {
     "base_uri": "https://localhost:8080/",
     "height": 238
    },
    "colab_type": "code",
    "id": "Si7tzoWj6OPm",
    "outputId": "3fdc95c1-a207-4a4c-b070-31939a1c0045"
   },
   "outputs": [
    {
     "name": "stderr",
     "output_type": "stream",
     "text": [
      "/usr/local/lib/python3.6/dist-packages/gensim/matutils.py:737: FutureWarning: Conversion of the second argument of issubdtype from `int` to `np.signedinteger` is deprecated. In future, it will be treated as `np.int64 == np.dtype(int).type`.\n",
      "  if np.issubdtype(vec.dtype, np.int):\n"
     ]
    },
    {
     "name": "stdout",
     "output_type": "stream",
     "text": [
      "[('most', 0.48366793990135193),\n",
      " ('largest', 0.48115548491477966),\n",
      " ('costliest', 0.45706892013549805),\n",
      " ('biggest', 0.43423277139663696),\n",
      " ('deadliest', 0.4111884832382202),\n",
      " ('history', 0.4066246449947357),\n",
      " ('morethan', 0.4051026701927185),\n",
      " ('lengthiest', 0.40244799852371216),\n",
      " ('worst', 0.40200868248939514),\n",
      " ('steepest', 0.3986958861351013)]\n"
     ]
    }
   ],
   "source": [
    "pprint.pprint(wv_from_bin.most_similar(positive=['more', 'longest'], negative=['longer']))"
   ]
  },
  {
   "cell_type": "code",
   "execution_count": 48,
   "metadata": {
    "colab": {
     "base_uri": "https://localhost:8080/",
     "height": 238
    },
    "colab_type": "code",
    "id": "F9ovd84w8xVV",
    "outputId": "e9a79abe-16b9-4b30-c366-d217b9379eca"
   },
   "outputs": [
    {
     "name": "stderr",
     "output_type": "stream",
     "text": [
      "/usr/local/lib/python3.6/dist-packages/gensim/matutils.py:737: FutureWarning: Conversion of the second argument of issubdtype from `int` to `np.signedinteger` is deprecated. In future, it will be treated as `np.int64 == np.dtype(int).type`.\n",
      "  if np.issubdtype(vec.dtype, np.int):\n"
     ]
    },
    {
     "name": "stdout",
     "output_type": "stream",
     "text": [
      "[('helped', 0.5876440405845642),\n",
      " ('helping', 0.5641529560089111),\n",
      " ('helps', 0.49145710468292236),\n",
      " ('assist', 0.47578394412994385),\n",
      " ('needed', 0.46895796060562134),\n",
      " ('assisting', 0.45158955454826355),\n",
      " ('worked_diligently', 0.45099586248397827),\n",
      " ('tohelp', 0.4488154351711273),\n",
      " ('worked_tirelessly', 0.4316960275173187),\n",
      " ('Helping', 0.4140826463699341)]\n"
     ]
    }
   ],
   "source": [
    "pprint.pprint(wv_from_bin.most_similar(positive=['help', 'talked'], negative=['talk']))"
   ]
  },
  {
   "cell_type": "markdown",
   "metadata": {
    "colab_type": "text",
    "id": "4G2ozsjccIJp"
   },
   "source": [
    "### Question 32: Guided Analysis of Bias in Word Vectors [written] (2 point)\n",
    "\n",
    "It's important to be cognizant of the biases (gender, race, sexual orientation etc.) implicit in our word embeddings. Execute the cells bellow and answer the final multiple choice question. \n",
    "\n",
    "Run the cell below, to examine (a) which terms are most similar to \"woman\" and \"doctor\" and most dissimilar to \"man\", and (b) which terms are most similar to \"man\" and \"doctor\" and most dissimilar to \"woman\"."
   ]
  },
  {
   "cell_type": "code",
   "execution_count": 49,
   "metadata": {
    "colab": {
     "base_uri": "https://localhost:8080/",
     "height": 423
    },
    "colab_type": "code",
    "id": "gfOf880QcIJr",
    "outputId": "0704cb8b-40a8-4473-9e8d-712d76bd8021"
   },
   "outputs": [
    {
     "name": "stderr",
     "output_type": "stream",
     "text": [
      "/usr/local/lib/python3.6/dist-packages/gensim/matutils.py:737: FutureWarning: Conversion of the second argument of issubdtype from `int` to `np.signedinteger` is deprecated. In future, it will be treated as `np.int64 == np.dtype(int).type`.\n",
      "  if np.issubdtype(vec.dtype, np.int):\n"
     ]
    },
    {
     "name": "stdout",
     "output_type": "stream",
     "text": [
      "[('gynecologist', 0.7093892097473145),\n",
      " ('nurse', 0.647728681564331),\n",
      " ('doctors', 0.6471461057662964),\n",
      " ('physician', 0.64389967918396),\n",
      " ('pediatrician', 0.6249487996101379),\n",
      " ('nurse_practitioner', 0.6218314170837402),\n",
      " ('obstetrician', 0.6072014570236206),\n",
      " ('ob_gyn', 0.5986712574958801),\n",
      " ('midwife', 0.5927063226699829),\n",
      " ('dermatologist', 0.5739566087722778)]\n",
      "\n",
      "[('physician', 0.646366536617279),\n",
      " ('doctors', 0.5858404636383057),\n",
      " ('surgeon', 0.5723941326141357),\n",
      " ('dentist', 0.552364706993103),\n",
      " ('cardiologist', 0.5413815975189209),\n",
      " ('neurologist', 0.5271126627922058),\n",
      " ('neurosurgeon', 0.5249835848808289),\n",
      " ('urologist', 0.5247740149497986),\n",
      " ('Doctor', 0.5240625143051147),\n",
      " ('internist', 0.5183224081993103)]\n"
     ]
    }
   ],
   "source": [
    "# Run this cell\n",
    "# Here `positive` indicates the list of words to be similar to and `negative` indicates the list of words to be\n",
    "# most dissimilar from.\n",
    "pprint.pprint(wv_from_bin.most_similar(positive=['woman', 'doctor'], negative=['man']))\n",
    "print()\n",
    "pprint.pprint(wv_from_bin.most_similar(positive=['man', 'doctor'], negative=['woman']))"
   ]
  },
  {
   "cell_type": "markdown",
   "metadata": {
    "colab_type": "text",
    "id": "9htBlSgGcIJw"
   },
   "source": [
    "Now, as another example, run the cell below. "
   ]
  },
  {
   "cell_type": "code",
   "execution_count": 50,
   "metadata": {
    "colab": {
     "base_uri": "https://localhost:8080/",
     "height": 423
    },
    "colab_type": "code",
    "id": "WRlHoB7dcIJx",
    "outputId": "644162a8-1dff-4989-d3fb-53d2efec09ef"
   },
   "outputs": [
    {
     "name": "stderr",
     "output_type": "stream",
     "text": [
      "/usr/local/lib/python3.6/dist-packages/gensim/matutils.py:737: FutureWarning: Conversion of the second argument of issubdtype from `int` to `np.signedinteger` is deprecated. In future, it will be treated as `np.int64 == np.dtype(int).type`.\n",
      "  if np.issubdtype(vec.dtype, np.int):\n"
     ]
    },
    {
     "name": "stdout",
     "output_type": "stream",
     "text": [
      "[('Driving', 0.5852035880088806),\n",
      " ('driver', 0.47401076555252075),\n",
      " ('speeding', 0.47157201170921326),\n",
      " ('speeding_tailgating', 0.45615941286087036),\n",
      " ('reckless_driving', 0.44846364855766296),\n",
      " ('careless_driving', 0.4432634711265564),\n",
      " ('drivng', 0.4395124316215515),\n",
      " ('inattentive_driving', 0.4369025230407715),\n",
      " ('drving', 0.43169018626213074),\n",
      " ('rearended', 0.4293234944343567)]\n",
      "\n",
      "[('Driving', 0.5723780393600464),\n",
      " ('speeding', 0.525741457939148),\n",
      " ('driv_ing', 0.4717545211315155),\n",
      " ('driver', 0.4484107196331024),\n",
      " ('driven', 0.4460456967353821),\n",
      " ('drunk_driving', 0.4396974444389343),\n",
      " ('drivers', 0.43929797410964966),\n",
      " ('drving', 0.43717342615127563),\n",
      " ('drive', 0.4287762939929962),\n",
      " ('drove', 0.41837912797927856)]\n"
     ]
    }
   ],
   "source": [
    "\n",
    "pprint.pprint(wv_from_bin.most_similar(positive=['brown', 'driving'], negative=['white']))\n",
    "print()\n",
    "pprint.pprint(wv_from_bin.most_similar(positive=['white', 'driving'], negative=['brown']))\n"
   ]
  },
  {
   "cell_type": "markdown",
   "metadata": {
    "colab_type": "text",
    "id": "sPuJMxMjcIJ2"
   },
   "source": [
    "# <font color=\"blue\"> Submission Instructions</font>\n",
    "\n",
    "Simply make sure you have answered all the multiple choice questions to your satisfaction, and submit!\n",
    "  "
   ]
  }
 ],
 "metadata": {
  "accelerator": "GPU",
  "colab": {
   "collapsed_sections": [],
   "name": "ExploringWord2Vec.ipynb",
   "provenance": []
  },
  "kernelspec": {
   "display_name": "Python 3",
   "language": "python",
   "name": "python3"
  },
  "language_info": {
   "codemirror_mode": {
    "name": "ipython",
    "version": 3
   },
   "file_extension": ".py",
   "mimetype": "text/x-python",
   "name": "python",
   "nbconvert_exporter": "python",
   "pygments_lexer": "ipython3",
   "version": "3.7.3"
  }
 },
 "nbformat": 4,
 "nbformat_minor": 1
}
